{
 "cells": [
  {
   "cell_type": "markdown",
   "metadata": {},
   "source": [
    "## Purpos of the analysis\n",
    "### We will fill this shortly"
   ]
  },
  {
   "cell_type": "code",
   "execution_count": 1,
   "metadata": {},
   "outputs": [],
   "source": [
    "# import the libraris\n",
    "import pandas as pd\n",
    "import numpy as np\n",
    "import matplotlib.pyplot as plt\n",
    "import seaborn as sns\n"
   ]
  },
  {
   "cell_type": "code",
   "execution_count": 2,
   "metadata": {},
   "outputs": [],
   "source": [
    "# import the dataset\n",
    "df = pd.read_csv(\"./Balloon Race Data Breaches - LATEST - breaches.csv\")\n"
   ]
  },
  {
   "cell_type": "code",
   "execution_count": 3,
   "metadata": {},
   "outputs": [
    {
     "name": "stdout",
     "output_type": "stream",
     "text": [
      "<class 'pandas.core.frame.DataFrame'>\n",
      "RangeIndex: 417 entries, 0 to 416\n",
      "Data columns (total 15 columns):\n",
      " #   Column             Non-Null Count  Dtype  \n",
      "---  ------             --------------  -----  \n",
      " 0   organisation       417 non-null    object \n",
      " 1   alternative name   144 non-null    object \n",
      " 2   records lost       417 non-null    object \n",
      " 3   year               417 non-null    int64  \n",
      " 4   date               417 non-null    object \n",
      " 5   story              411 non-null    object \n",
      " 6   sector             417 non-null    object \n",
      " 7   method             417 non-null    object \n",
      " 8   interesting story  85 non-null     object \n",
      " 9   data sensitivity   416 non-null    float64\n",
      " 10  displayed_records  74 non-null     object \n",
      " 11  source_name        417 non-null    object \n",
      " 12  1st_source link    416 non-null    object \n",
      " 13  2nd_source link    32 non-null     object \n",
      " 14  ID                 417 non-null    int64  \n",
      "dtypes: float64(1), int64(2), object(12)\n",
      "memory usage: 49.0+ KB\n"
     ]
    }
   ],
   "source": [
    "# Explore the data (composition)\n",
    "df.info()"
   ]
  },
  {
   "cell_type": "code",
   "execution_count": 4,
   "metadata": {},
   "outputs": [
    {
     "data": {
      "text/html": [
       "<div>\n",
       "<style scoped>\n",
       "    .dataframe tbody tr th:only-of-type {\n",
       "        vertical-align: middle;\n",
       "    }\n",
       "\n",
       "    .dataframe tbody tr th {\n",
       "        vertical-align: top;\n",
       "    }\n",
       "\n",
       "    .dataframe thead th {\n",
       "        text-align: right;\n",
       "    }\n",
       "</style>\n",
       "<table border=\"1\" class=\"dataframe\">\n",
       "  <thead>\n",
       "    <tr style=\"text-align: right;\">\n",
       "      <th></th>\n",
       "      <th>organisation</th>\n",
       "      <th>alternative name</th>\n",
       "      <th>records lost</th>\n",
       "      <th>year</th>\n",
       "      <th>date</th>\n",
       "      <th>story</th>\n",
       "      <th>sector</th>\n",
       "      <th>method</th>\n",
       "      <th>interesting story</th>\n",
       "      <th>data sensitivity</th>\n",
       "      <th>displayed_records</th>\n",
       "      <th>source_name</th>\n",
       "      <th>1st_source link</th>\n",
       "      <th>2nd_source link</th>\n",
       "      <th>ID</th>\n",
       "    </tr>\n",
       "  </thead>\n",
       "  <tbody>\n",
       "    <tr>\n",
       "      <th>0</th>\n",
       "      <td>Plex</td>\n",
       "      <td>NaN</td>\n",
       "      <td>15,000,000</td>\n",
       "      <td>2022</td>\n",
       "      <td>Aug 2022</td>\n",
       "      <td>Intruders access password data, usernames, and...</td>\n",
       "      <td>web</td>\n",
       "      <td>hacked</td>\n",
       "      <td>NaN</td>\n",
       "      <td>1.0</td>\n",
       "      <td>NaN</td>\n",
       "      <td>Ars technica</td>\n",
       "      <td>https://arstechnica.com/information-technology...</td>\n",
       "      <td>NaN</td>\n",
       "      <td>418</td>\n",
       "    </tr>\n",
       "    <tr>\n",
       "      <th>1</th>\n",
       "      <td>Twitter</td>\n",
       "      <td>NaN</td>\n",
       "      <td>5,400,000</td>\n",
       "      <td>2021</td>\n",
       "      <td>Dec 2021</td>\n",
       "      <td>Zero day vulnerability allowed a threat actor ...</td>\n",
       "      <td>web</td>\n",
       "      <td>hacked</td>\n",
       "      <td>NaN</td>\n",
       "      <td>2.0</td>\n",
       "      <td>NaN</td>\n",
       "      <td>Bleeping Computer</td>\n",
       "      <td>https://www.bleepingcomputer.com/news/security...</td>\n",
       "      <td>NaN</td>\n",
       "      <td>419</td>\n",
       "    </tr>\n",
       "    <tr>\n",
       "      <th>2</th>\n",
       "      <td>Shanghai Police</td>\n",
       "      <td>NaN</td>\n",
       "      <td>500,000,000</td>\n",
       "      <td>2022</td>\n",
       "      <td>Jul 2022</td>\n",
       "      <td>A database containing records of over a billio...</td>\n",
       "      <td>financial</td>\n",
       "      <td>hacked</td>\n",
       "      <td>NaN</td>\n",
       "      <td>5.0</td>\n",
       "      <td>\"one billion\"</td>\n",
       "      <td>The Register</td>\n",
       "      <td>https://www.theregister.com/2022/07/05/shangha...</td>\n",
       "      <td>NaN</td>\n",
       "      <td>420</td>\n",
       "    </tr>\n",
       "    <tr>\n",
       "      <th>3</th>\n",
       "      <td>City of Amagasaki, Japan</td>\n",
       "      <td>NaN</td>\n",
       "      <td>500,000</td>\n",
       "      <td>2022</td>\n",
       "      <td>Jun 2022</td>\n",
       "      <td>An unnamed government official lost his bag af...</td>\n",
       "      <td>government</td>\n",
       "      <td>oops!</td>\n",
       "      <td>NaN</td>\n",
       "      <td>3.0</td>\n",
       "      <td>NaN</td>\n",
       "      <td>BBC</td>\n",
       "      <td>https://www.bbc.co.uk/news/world-asia-61921222</td>\n",
       "      <td>NaN</td>\n",
       "      <td>421</td>\n",
       "    </tr>\n",
       "    <tr>\n",
       "      <th>4</th>\n",
       "      <td>Dubai Real Estate Leak</td>\n",
       "      <td>NaN</td>\n",
       "      <td>800,000</td>\n",
       "      <td>2022</td>\n",
       "      <td>May 2022</td>\n",
       "      <td>Data leak exposes how criminals, officials, an...</td>\n",
       "      <td>financial</td>\n",
       "      <td>inside job</td>\n",
       "      <td>y</td>\n",
       "      <td>1.0</td>\n",
       "      <td>NaN</td>\n",
       "      <td>E24</td>\n",
       "      <td>https://e24.no/internasjonal-oekonomi/i/Bj97B0...</td>\n",
       "      <td>NaN</td>\n",
       "      <td>417</td>\n",
       "    </tr>\n",
       "  </tbody>\n",
       "</table>\n",
       "</div>"
      ],
      "text/plain": [
       "               organisation alternative name records lost  year      date  \\\n",
       "0                      Plex              NaN   15,000,000  2022  Aug 2022   \n",
       "1                   Twitter              NaN    5,400,000  2021  Dec 2021   \n",
       "2           Shanghai Police              NaN  500,000,000  2022  Jul 2022   \n",
       "3  City of Amagasaki, Japan              NaN      500,000  2022  Jun 2022   \n",
       "4    Dubai Real Estate Leak              NaN      800,000  2022  May 2022   \n",
       "\n",
       "                                               story      sector      method  \\\n",
       "0  Intruders access password data, usernames, and...        web       hacked   \n",
       "1  Zero day vulnerability allowed a threat actor ...         web      hacked   \n",
       "2  A database containing records of over a billio...   financial      hacked   \n",
       "3  An unnamed government official lost his bag af...  government       oops!   \n",
       "4  Data leak exposes how criminals, officials, an...   financial  inside job   \n",
       "\n",
       "  interesting story  data sensitivity displayed_records        source_name  \\\n",
       "0               NaN               1.0               NaN       Ars technica   \n",
       "1               NaN               2.0               NaN  Bleeping Computer   \n",
       "2               NaN               5.0     \"one billion\"       The Register   \n",
       "3               NaN               3.0               NaN                BBC   \n",
       "4                 y               1.0               NaN                E24   \n",
       "\n",
       "                                     1st_source link 2nd_source link   ID  \n",
       "0  https://arstechnica.com/information-technology...             NaN  418  \n",
       "1  https://www.bleepingcomputer.com/news/security...             NaN  419  \n",
       "2  https://www.theregister.com/2022/07/05/shangha...             NaN  420  \n",
       "3     https://www.bbc.co.uk/news/world-asia-61921222             NaN  421  \n",
       "4  https://e24.no/internasjonal-oekonomi/i/Bj97B0...             NaN  417  "
      ]
     },
     "execution_count": 4,
     "metadata": {},
     "output_type": "execute_result"
    }
   ],
   "source": [
    "df.head()"
   ]
  },
  {
   "cell_type": "code",
   "execution_count": 5,
   "metadata": {},
   "outputs": [
    {
     "data": {
      "text/plain": [
       "Index(['organisation', 'alternative name', 'records lost', 'year', 'date',\n",
       "       'story', 'sector', 'method', 'interesting story', 'data sensitivity',\n",
       "       'displayed_records', 'source_name', '1st_source link',\n",
       "       '2nd_source link', 'ID'],\n",
       "      dtype='object')"
      ]
     },
     "execution_count": 5,
     "metadata": {},
     "output_type": "execute_result"
    }
   ],
   "source": [
    "# all columns\n",
    "df.columns"
   ]
  },
  {
   "cell_type": "code",
   "execution_count": 6,
   "metadata": {},
   "outputs": [
    {
     "data": {
      "text/plain": [
       "organisation          object\n",
       "alternative name      object\n",
       "records lost          object\n",
       "year                   int64\n",
       "date                  object\n",
       "story                 object\n",
       "sector                object\n",
       "method                object\n",
       "interesting story     object\n",
       "data sensitivity     float64\n",
       "displayed_records     object\n",
       "source_name           object\n",
       "1st_source link       object\n",
       "2nd_source link       object\n",
       "ID                     int64\n",
       "dtype: object"
      ]
     },
     "execution_count": 6,
     "metadata": {},
     "output_type": "execute_result"
    }
   ],
   "source": [
    "# all columns data types\n",
    "df.dtypes"
   ]
  },
  {
   "cell_type": "code",
   "execution_count": 7,
   "metadata": {},
   "outputs": [
    {
     "data": {
      "text/html": [
       "<div>\n",
       "<style scoped>\n",
       "    .dataframe tbody tr th:only-of-type {\n",
       "        vertical-align: middle;\n",
       "    }\n",
       "\n",
       "    .dataframe tbody tr th {\n",
       "        vertical-align: top;\n",
       "    }\n",
       "\n",
       "    .dataframe thead th {\n",
       "        text-align: right;\n",
       "    }\n",
       "</style>\n",
       "<table border=\"1\" class=\"dataframe\">\n",
       "  <thead>\n",
       "    <tr style=\"text-align: right;\">\n",
       "      <th></th>\n",
       "      <th>year</th>\n",
       "      <th>data sensitivity</th>\n",
       "      <th>ID</th>\n",
       "    </tr>\n",
       "  </thead>\n",
       "  <tbody>\n",
       "    <tr>\n",
       "      <th>count</th>\n",
       "      <td>417.000000</td>\n",
       "      <td>416.000000</td>\n",
       "      <td>417.000000</td>\n",
       "    </tr>\n",
       "    <tr>\n",
       "      <th>mean</th>\n",
       "      <td>2015.215827</td>\n",
       "      <td>2.338942</td>\n",
       "      <td>210.529976</td>\n",
       "    </tr>\n",
       "    <tr>\n",
       "      <th>std</th>\n",
       "      <td>4.307467</td>\n",
       "      <td>1.235235</td>\n",
       "      <td>121.231936</td>\n",
       "    </tr>\n",
       "    <tr>\n",
       "      <th>min</th>\n",
       "      <td>2004.000000</td>\n",
       "      <td>1.000000</td>\n",
       "      <td>2.000000</td>\n",
       "    </tr>\n",
       "    <tr>\n",
       "      <th>25%</th>\n",
       "      <td>2012.000000</td>\n",
       "      <td>1.000000</td>\n",
       "      <td>106.000000</td>\n",
       "    </tr>\n",
       "    <tr>\n",
       "      <th>50%</th>\n",
       "      <td>2016.000000</td>\n",
       "      <td>2.000000</td>\n",
       "      <td>210.000000</td>\n",
       "    </tr>\n",
       "    <tr>\n",
       "      <th>75%</th>\n",
       "      <td>2019.000000</td>\n",
       "      <td>3.000000</td>\n",
       "      <td>315.000000</td>\n",
       "    </tr>\n",
       "    <tr>\n",
       "      <th>max</th>\n",
       "      <td>2022.000000</td>\n",
       "      <td>5.000000</td>\n",
       "      <td>421.000000</td>\n",
       "    </tr>\n",
       "  </tbody>\n",
       "</table>\n",
       "</div>"
      ],
      "text/plain": [
       "              year  data sensitivity          ID\n",
       "count   417.000000        416.000000  417.000000\n",
       "mean   2015.215827          2.338942  210.529976\n",
       "std       4.307467          1.235235  121.231936\n",
       "min    2004.000000          1.000000    2.000000\n",
       "25%    2012.000000          1.000000  106.000000\n",
       "50%    2016.000000          2.000000  210.000000\n",
       "75%    2019.000000          3.000000  315.000000\n",
       "max    2022.000000          5.000000  421.000000"
      ]
     },
     "execution_count": 7,
     "metadata": {},
     "output_type": "execute_result"
    }
   ],
   "source": [
    "df.describe()"
   ]
  },
  {
   "cell_type": "code",
   "execution_count": 8,
   "metadata": {},
   "outputs": [
    {
     "data": {
      "text/plain": [
       "organisation           0\n",
       "alternative name     273\n",
       "records lost           0\n",
       "year                   0\n",
       "date                   0\n",
       "story                  6\n",
       "sector                 0\n",
       "method                 0\n",
       "interesting story    332\n",
       "data sensitivity       1\n",
       "displayed_records    343\n",
       "source_name            0\n",
       "1st_source link        1\n",
       "2nd_source link      385\n",
       "ID                     0\n",
       "dtype: int64"
      ]
     },
     "execution_count": 8,
     "metadata": {},
     "output_type": "execute_result"
    }
   ],
   "source": [
    "df.isna().sum()"
   ]
  },
  {
   "cell_type": "code",
   "execution_count": 9,
   "metadata": {},
   "outputs": [],
   "source": [
    "# imputing missing values\n",
    "df['data sensitivity'] = df['data sensitivity'].fillna(df['data sensitivity'].mean())"
   ]
  },
  {
   "cell_type": "code",
   "execution_count": 10,
   "metadata": {},
   "outputs": [
    {
     "name": "stderr",
     "output_type": "stream",
     "text": [
      "C:\\Users\\Admin\\AppData\\Local\\Temp\\ipykernel_10404\\161741039.py:3: FutureWarning: A value is trying to be set on a copy of a DataFrame or Series through chained assignment using an inplace method.\n",
      "The behavior will change in pandas 3.0. This inplace method will never work because the intermediate object on which we are setting values always behaves as a copy.\n",
      "\n",
      "For example, when doing 'df[col].method(value, inplace=True)', try using 'df.method({col: value}, inplace=True)' or df[col] = df[col].method(value) instead, to perform the operation inplace on the original object.\n",
      "\n",
      "\n",
      "  df1[\"interesting story\"].fillna('No',inplace=True)\n",
      "C:\\Users\\Admin\\AppData\\Local\\Temp\\ipykernel_10404\\161741039.py:3: SettingWithCopyWarning: \n",
      "A value is trying to be set on a copy of a slice from a DataFrame\n",
      "\n",
      "See the caveats in the documentation: https://pandas.pydata.org/pandas-docs/stable/user_guide/indexing.html#returning-a-view-versus-a-copy\n",
      "  df1[\"interesting story\"].fillna('No',inplace=True)\n"
     ]
    }
   ],
   "source": [
    "# drop rows of missing values in story\n",
    "df1 = df.dropna(subset=['story'])\n",
    "df1[\"interesting story\"].fillna('No',inplace=True)"
   ]
  },
  {
   "cell_type": "code",
   "execution_count": 11,
   "metadata": {},
   "outputs": [],
   "source": [
    "df = df1"
   ]
  },
  {
   "cell_type": "code",
   "execution_count": 12,
   "metadata": {},
   "outputs": [],
   "source": [
    "# remove column alternative name\n",
    "df = df.drop('alternative name', axis=1)"
   ]
  },
  {
   "cell_type": "code",
   "execution_count": 13,
   "metadata": {},
   "outputs": [
    {
     "data": {
      "text/plain": [
       "organisation           0\n",
       "records lost           0\n",
       "year                   0\n",
       "date                   0\n",
       "story                  0\n",
       "sector                 0\n",
       "method                 0\n",
       "interesting story      0\n",
       "data sensitivity       0\n",
       "displayed_records    338\n",
       "source_name            0\n",
       "1st_source link        1\n",
       "2nd_source link      380\n",
       "ID                     0\n",
       "dtype: int64"
      ]
     },
     "execution_count": 13,
     "metadata": {},
     "output_type": "execute_result"
    }
   ],
   "source": [
    "df.isna().sum()"
   ]
  },
  {
   "cell_type": "code",
   "execution_count": 14,
   "metadata": {},
   "outputs": [],
   "source": [
    "df.dropna(subset=['1st_source link'],inplace=True)"
   ]
  },
  {
   "cell_type": "code",
   "execution_count": 15,
   "metadata": {},
   "outputs": [],
   "source": [
    "# replace the unknown and NaN to int 0\n",
    "df[\"displayed_records\"] = df[\"displayed_records\"].replace([np.nan, 'unknown'],0,regex=True)\n"
   ]
  },
  {
   "cell_type": "code",
   "execution_count": 16,
   "metadata": {},
   "outputs": [],
   "source": [
    "# replace \"one billion\"\tto 1000000000 in displayed_records\n",
    "df[\"displayed_records\"] = df[\"displayed_records\"].replace('one billion', 1000000000,regex=True)"
   ]
  },
  {
   "cell_type": "code",
   "execution_count": 17,
   "metadata": {},
   "outputs": [],
   "source": [
    "# repalce , to . in displayed_records\n",
    "df[\"displayed_records\"] = df[\"displayed_records\"].str.replace(',','',regex=True)\n"
   ]
  },
  {
   "cell_type": "code",
   "execution_count": 18,
   "metadata": {},
   "outputs": [
    {
     "data": {
      "text/plain": [
       "0           NaN\n",
       "1           NaN\n",
       "2           NaN\n",
       "3           NaN\n",
       "4           NaN\n",
       "5           NaN\n",
       "6           NaN\n",
       "7           NaN\n",
       "8      19000000\n",
       "9           NaN\n",
       "10          NaN\n",
       "12      3700000\n",
       "14      5000000\n",
       "15          NaN\n",
       "16       470000\n",
       "18          NaN\n",
       "20          NaN\n",
       "21          NaN\n",
       "22          NaN\n",
       "23      4100000\n",
       "25          NaN\n",
       "26          NaN\n",
       "27          NaN\n",
       "28          NaN\n",
       "29          NaN\n",
       "30    100000000\n",
       "31          NaN\n",
       "32     38000000\n",
       "33          NaN\n",
       "34          NaN\n",
       "Name: displayed_records, dtype: object"
      ]
     },
     "execution_count": 18,
     "metadata": {},
     "output_type": "execute_result"
    }
   ],
   "source": [
    "\n",
    "df[\"displayed_records\"].head(30)"
   ]
  },
  {
   "cell_type": "code",
   "execution_count": 19,
   "metadata": {},
   "outputs": [],
   "source": [
    "# replece NaN to 0\n",
    "df[\"displayed_records\"] = df[\"displayed_records\"].fillna(0)\n"
   ]
  },
  {
   "cell_type": "code",
   "execution_count": 20,
   "metadata": {},
   "outputs": [],
   "source": [
    "# convert displayed_records to int\n",
    "df[\"displayed_records\"] = df[\"displayed_records\"].astype(int)"
   ]
  },
  {
   "cell_type": "code",
   "execution_count": 21,
   "metadata": {},
   "outputs": [
    {
     "data": {
      "text/plain": [
       "organisation           0\n",
       "records lost           0\n",
       "year                   0\n",
       "date                   0\n",
       "story                  0\n",
       "sector                 0\n",
       "method                 0\n",
       "interesting story      0\n",
       "data sensitivity       0\n",
       "displayed_records      0\n",
       "source_name            0\n",
       "1st_source link        0\n",
       "2nd_source link      379\n",
       "ID                     0\n",
       "dtype: int64"
      ]
     },
     "execution_count": 21,
     "metadata": {},
     "output_type": "execute_result"
    }
   ],
   "source": [
    "df.isna().sum()"
   ]
  },
  {
   "cell_type": "code",
   "execution_count": 22,
   "metadata": {},
   "outputs": [
    {
     "data": {
      "text/plain": [
       "organisation           0\n",
       "records lost           0\n",
       "year                   0\n",
       "date                   0\n",
       "story                  0\n",
       "sector                 0\n",
       "method                 0\n",
       "interesting story      0\n",
       "data sensitivity       0\n",
       "displayed_records      0\n",
       "source_name            0\n",
       "1st_source link        0\n",
       "2nd_source link      379\n",
       "ID                     0\n",
       "dtype: int64"
      ]
     },
     "execution_count": 22,
     "metadata": {},
     "output_type": "execute_result"
    }
   ],
   "source": [
    "df.isna().sum()"
   ]
  },
  {
   "cell_type": "code",
   "execution_count": 23,
   "metadata": {},
   "outputs": [
    {
     "data": {
      "text/html": [
       "<div>\n",
       "<style scoped>\n",
       "    .dataframe tbody tr th:only-of-type {\n",
       "        vertical-align: middle;\n",
       "    }\n",
       "\n",
       "    .dataframe tbody tr th {\n",
       "        vertical-align: top;\n",
       "    }\n",
       "\n",
       "    .dataframe thead th {\n",
       "        text-align: right;\n",
       "    }\n",
       "</style>\n",
       "<table border=\"1\" class=\"dataframe\">\n",
       "  <thead>\n",
       "    <tr style=\"text-align: right;\">\n",
       "      <th></th>\n",
       "      <th>count</th>\n",
       "      <th>mean</th>\n",
       "      <th>std</th>\n",
       "      <th>min</th>\n",
       "      <th>25%</th>\n",
       "      <th>50%</th>\n",
       "      <th>75%</th>\n",
       "      <th>max</th>\n",
       "    </tr>\n",
       "  </thead>\n",
       "  <tbody>\n",
       "    <tr>\n",
       "      <th>year</th>\n",
       "      <td>410.0</td>\n",
       "      <td>2.015120e+03</td>\n",
       "      <td>4.278548e+00</td>\n",
       "      <td>2004.0</td>\n",
       "      <td>2012.00</td>\n",
       "      <td>2016.0</td>\n",
       "      <td>2019.00</td>\n",
       "      <td>2.022000e+03</td>\n",
       "    </tr>\n",
       "    <tr>\n",
       "      <th>data sensitivity</th>\n",
       "      <td>410.0</td>\n",
       "      <td>2.346341e+00</td>\n",
       "      <td>1.239942e+00</td>\n",
       "      <td>1.0</td>\n",
       "      <td>1.00</td>\n",
       "      <td>2.0</td>\n",
       "      <td>3.00</td>\n",
       "      <td>5.000000e+00</td>\n",
       "    </tr>\n",
       "    <tr>\n",
       "      <th>displayed_records</th>\n",
       "      <td>410.0</td>\n",
       "      <td>2.738682e+07</td>\n",
       "      <td>1.101366e+08</td>\n",
       "      <td>0.0</td>\n",
       "      <td>0.00</td>\n",
       "      <td>0.0</td>\n",
       "      <td>0.00</td>\n",
       "      <td>1.100000e+09</td>\n",
       "    </tr>\n",
       "    <tr>\n",
       "      <th>ID</th>\n",
       "      <td>410.0</td>\n",
       "      <td>2.073537e+02</td>\n",
       "      <td>1.197652e+02</td>\n",
       "      <td>2.0</td>\n",
       "      <td>104.25</td>\n",
       "      <td>206.5</td>\n",
       "      <td>309.75</td>\n",
       "      <td>4.210000e+02</td>\n",
       "    </tr>\n",
       "  </tbody>\n",
       "</table>\n",
       "</div>"
      ],
      "text/plain": [
       "                   count          mean           std     min      25%     50%  \\\n",
       "year               410.0  2.015120e+03  4.278548e+00  2004.0  2012.00  2016.0   \n",
       "data sensitivity   410.0  2.346341e+00  1.239942e+00     1.0     1.00     2.0   \n",
       "displayed_records  410.0  2.738682e+07  1.101366e+08     0.0     0.00     0.0   \n",
       "ID                 410.0  2.073537e+02  1.197652e+02     2.0   104.25   206.5   \n",
       "\n",
       "                       75%           max  \n",
       "year               2019.00  2.022000e+03  \n",
       "data sensitivity      3.00  5.000000e+00  \n",
       "displayed_records     0.00  1.100000e+09  \n",
       "ID                  309.75  4.210000e+02  "
      ]
     },
     "execution_count": 23,
     "metadata": {},
     "output_type": "execute_result"
    }
   ],
   "source": [
    "df.describe().T"
   ]
  },
  {
   "cell_type": "code",
   "execution_count": 24,
   "metadata": {},
   "outputs": [],
   "source": [
    "# convert records lost to int\n",
    "df[\"records lost\"] = df[\"records lost\"].str.replace(',','').astype(int)"
   ]
  },
  {
   "cell_type": "code",
   "execution_count": 25,
   "metadata": {},
   "outputs": [
    {
     "name": "stdout",
     "output_type": "stream",
     "text": [
      "<class 'pandas.core.frame.DataFrame'>\n",
      "Index: 410 entries, 0 to 416\n",
      "Data columns (total 14 columns):\n",
      " #   Column             Non-Null Count  Dtype  \n",
      "---  ------             --------------  -----  \n",
      " 0   organisation       410 non-null    object \n",
      " 1   records lost       410 non-null    int32  \n",
      " 2   year               410 non-null    int64  \n",
      " 3   date               410 non-null    object \n",
      " 4   story              410 non-null    object \n",
      " 5   sector             410 non-null    object \n",
      " 6   method             410 non-null    object \n",
      " 7   interesting story  410 non-null    object \n",
      " 8   data sensitivity   410 non-null    float64\n",
      " 9   displayed_records  410 non-null    int32  \n",
      " 10  source_name        410 non-null    object \n",
      " 11  1st_source link    410 non-null    object \n",
      " 12  2nd_source link    31 non-null     object \n",
      " 13  ID                 410 non-null    int64  \n",
      "dtypes: float64(1), int32(2), int64(2), object(9)\n",
      "memory usage: 44.8+ KB\n"
     ]
    }
   ],
   "source": [
    "df.info()\n",
    "df = df.drop('2nd_source link', axis=1)"
   ]
  },
  {
   "cell_type": "code",
   "execution_count": 26,
   "metadata": {},
   "outputs": [
    {
     "name": "stderr",
     "output_type": "stream",
     "text": [
      "C:\\Users\\Admin\\AppData\\Local\\Temp\\ipykernel_10404\\167783040.py:2: UserWarning: Could not infer format, so each element will be parsed individually, falling back to `dateutil`. To ensure parsing is consistent and as-expected, please specify a format.\n",
      "  df[\"date\"] = pd.to_datetime(df[\"date\"])\n"
     ]
    }
   ],
   "source": [
    "# convert date to datetime\n",
    "df[\"date\"] = pd.to_datetime(df[\"date\"])"
   ]
  },
  {
   "cell_type": "code",
   "execution_count": 27,
   "metadata": {},
   "outputs": [
    {
     "name": "stdout",
     "output_type": "stream",
     "text": [
      "<class 'pandas.core.frame.DataFrame'>\n",
      "Index: 410 entries, 0 to 416\n",
      "Data columns (total 13 columns):\n",
      " #   Column             Non-Null Count  Dtype         \n",
      "---  ------             --------------  -----         \n",
      " 0   organisation       410 non-null    object        \n",
      " 1   records lost       410 non-null    int32         \n",
      " 2   year               410 non-null    int64         \n",
      " 3   date               410 non-null    datetime64[ns]\n",
      " 4   story              410 non-null    object        \n",
      " 5   sector             410 non-null    object        \n",
      " 6   method             410 non-null    object        \n",
      " 7   interesting story  410 non-null    object        \n",
      " 8   data sensitivity   410 non-null    float64       \n",
      " 9   displayed_records  410 non-null    int32         \n",
      " 10  source_name        410 non-null    object        \n",
      " 11  1st_source link    410 non-null    object        \n",
      " 12  ID                 410 non-null    int64         \n",
      "dtypes: datetime64[ns](1), float64(1), int32(2), int64(2), object(7)\n",
      "memory usage: 41.6+ KB\n"
     ]
    }
   ],
   "source": [
    "df.info()"
   ]
  },
  {
   "cell_type": "code",
   "execution_count": 28,
   "metadata": {},
   "outputs": [
    {
     "data": {
      "text/plain": [
       "<BarContainer object of 410 artists>"
      ]
     },
     "execution_count": 28,
     "metadata": {},
     "output_type": "execute_result"
    },
    {
     "data": {
      "image/png": "[encoded data removed]",
      "text/plain": [
       "<Figure size 800x600 with 1 Axes>"
      ]
     },
     "metadata": {},
     "output_type": "display_data"
    }
   ],
   "source": [
    "#change width of bar chart \n",
    "plt.figure(figsize=(8,6))\n",
    "plt.bar(df[\"year\"],df[\"records lost\"])"
   ]
  },
  {
   "cell_type": "code",
   "execution_count": null,
   "metadata": {},
   "outputs": [],
   "source": []
  }
 ],
 "metadata": {
  "kernelspec": {
   "display_name": "python_eda",
   "language": "python",
   "name": "python3"
  },
  "language_info": {
   "codemirror_mode": {
    "name": "ipython",
    "version": 3
   },
   "file_extension": ".py",
   "mimetype": "text/x-python",
   "name": "python",
   "nbconvert_exporter": "python",
   "pygments_lexer": "ipython3",
   "version": "3.12.2"
  }
 },
 "nbformat": 4,
 "nbformat_minor": 2
}
