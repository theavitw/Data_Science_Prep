{
 "cells": [
  {
   "cell_type": "markdown",
   "metadata": {},
   "source": [
    "## Pandas Day1"
   ]
  },
  {
   "cell_type": "code",
   "execution_count": 24,
   "metadata": {},
   "outputs": [],
   "source": [
    "import pandas as pd\n",
    "import seaborn as sns\n",
    "import matplotlib.pyplot as plt"
   ]
  },
  {
   "cell_type": "code",
   "execution_count": 25,
   "metadata": {},
   "outputs": [],
   "source": [
    "df = pd.read_csv('used_cars_data.csv', index_col = 0)"
   ]
  },
  {
   "cell_type": "code",
   "execution_count": 26,
   "metadata": {},
   "outputs": [
    {
     "name": "stdout",
     "output_type": "stream",
     "text": [
      "<class 'pandas.core.frame.DataFrame'>\n",
      "Index: 7253 entries, 0 to 7252\n",
      "Data columns (total 14 columns):\n",
      " #   Column             Non-Null Count  Dtype  \n",
      "---  ------             --------------  -----  \n",
      " 0   Name               7253 non-null   object \n",
      " 1   Location           7253 non-null   object \n",
      " 2   Year               7253 non-null   int64  \n",
      " 3   Kilometers_Driven  7253 non-null   int64  \n",
      " 4   Fuel_Type          7253 non-null   object \n",
      " 5   Transmission       7253 non-null   object \n",
      " 6   Owner_Type         7253 non-null   object \n",
      " 7   Mileage            7251 non-null   object \n",
      " 8   Engine             7207 non-null   object \n",
      " 9   Power              7207 non-null   object \n",
      " 10  Seats              7200 non-null   float64\n",
      " 11  New_Price          1006 non-null   object \n",
      " 12  Price              6019 non-null   float64\n",
      " 13  Unnamed: 14        0 non-null      float64\n",
      "dtypes: float64(3), int64(2), object(9)\n",
      "memory usage: 850.0+ KB\n"
     ]
    }
   ],
   "source": [
    "df.info()"
   ]
  },
  {
   "cell_type": "code",
   "execution_count": 27,
   "metadata": {},
   "outputs": [
    {
     "data": {
      "text/plain": [
       "Name                    0\n",
       "Location                0\n",
       "Year                    0\n",
       "Kilometers_Driven       0\n",
       "Fuel_Type               0\n",
       "Transmission            0\n",
       "Owner_Type              0\n",
       "Mileage                 2\n",
       "Engine                 46\n",
       "Power                  46\n",
       "Seats                  53\n",
       "New_Price            6247\n",
       "Price                1234\n",
       "Unnamed: 14          7253\n",
       "dtype: int64"
      ]
     },
     "execution_count": 27,
     "metadata": {},
     "output_type": "execute_result"
    }
   ],
   "source": [
    "df.isna().sum()"
   ]
  },
  {
   "cell_type": "code",
   "execution_count": 28,
   "metadata": {},
   "outputs": [],
   "source": [
    "# list out all New_price\n",
    "lst = []\n",
    "for i in df['New_Price']:\n",
    "    if i == 'nan':\n",
    "        lst.append(i)\n",
    "        continue\n",
    "    elif str(i).rfind('Lakh') != -1:\n",
    "        lst.append(float(i[:-5]))\n",
    "    elif str(i).rfind('Cr') != -1:\n",
    "        lst.append(float(i[:-3])*100)\n",
    "    else:\n",
    "        lst.append(i)"
   ]
  },
  {
   "cell_type": "code",
   "execution_count": 29,
   "metadata": {},
   "outputs": [],
   "source": [
    "# replace New_Price data with list\n",
    "df['New_Price'] = lst"
   ]
  },
  {
   "cell_type": "code",
   "execution_count": 30,
   "metadata": {},
   "outputs": [],
   "source": [
    "# max value\n",
    "df.rename(columns = {'New_Price':'New_Price(Lakh)'}, inplace = True)"
   ]
  },
  {
   "cell_type": "code",
   "execution_count": 31,
   "metadata": {},
   "outputs": [
    {
     "data": {
      "text/html": [
       "<div>\n",
       "<style scoped>\n",
       "    .dataframe tbody tr th:only-of-type {\n",
       "        vertical-align: middle;\n",
       "    }\n",
       "\n",
       "    .dataframe tbody tr th {\n",
       "        vertical-align: top;\n",
       "    }\n",
       "\n",
       "    .dataframe thead th {\n",
       "        text-align: right;\n",
       "    }\n",
       "</style>\n",
       "<table border=\"1\" class=\"dataframe\">\n",
       "  <thead>\n",
       "    <tr style=\"text-align: right;\">\n",
       "      <th></th>\n",
       "      <th>Name</th>\n",
       "      <th>Location</th>\n",
       "      <th>Year</th>\n",
       "      <th>Kilometers_Driven</th>\n",
       "      <th>Fuel_Type</th>\n",
       "      <th>Transmission</th>\n",
       "      <th>Owner_Type</th>\n",
       "      <th>Mileage</th>\n",
       "      <th>Engine</th>\n",
       "      <th>Power</th>\n",
       "      <th>Seats</th>\n",
       "      <th>New_Price(Lakh)</th>\n",
       "      <th>Price</th>\n",
       "      <th>Unnamed: 14</th>\n",
       "    </tr>\n",
       "    <tr>\n",
       "      <th>S.No.</th>\n",
       "      <th></th>\n",
       "      <th></th>\n",
       "      <th></th>\n",
       "      <th></th>\n",
       "      <th></th>\n",
       "      <th></th>\n",
       "      <th></th>\n",
       "      <th></th>\n",
       "      <th></th>\n",
       "      <th></th>\n",
       "      <th></th>\n",
       "      <th></th>\n",
       "      <th></th>\n",
       "      <th></th>\n",
       "    </tr>\n",
       "  </thead>\n",
       "  <tbody>\n",
       "    <tr>\n",
       "      <th>6354</th>\n",
       "      <td>Bentley Flying Spur W12</td>\n",
       "      <td>Bangalore</td>\n",
       "      <td>2008</td>\n",
       "      <td>31200</td>\n",
       "      <td>Petrol</td>\n",
       "      <td>Automatic</td>\n",
       "      <td>Second</td>\n",
       "      <td>10.2 kmpl</td>\n",
       "      <td>5998 CC</td>\n",
       "      <td>616 bhp</td>\n",
       "      <td>5.0</td>\n",
       "      <td>375.0</td>\n",
       "      <td>NaN</td>\n",
       "      <td>NaN</td>\n",
       "    </tr>\n",
       "  </tbody>\n",
       "</table>\n",
       "</div>"
      ],
      "text/plain": [
       "                          Name   Location  Year  Kilometers_Driven Fuel_Type  \\\n",
       "S.No.                                                                          \n",
       "6354   Bentley Flying Spur W12  Bangalore  2008              31200    Petrol   \n",
       "\n",
       "      Transmission Owner_Type    Mileage   Engine    Power  Seats  \\\n",
       "S.No.                                                               \n",
       "6354     Automatic     Second  10.2 kmpl  5998 CC  616 bhp    5.0   \n",
       "\n",
       "       New_Price(Lakh)  Price  Unnamed: 14  \n",
       "S.No.                                       \n",
       "6354             375.0    NaN          NaN  "
      ]
     },
     "execution_count": 31,
     "metadata": {},
     "output_type": "execute_result"
    }
   ],
   "source": [
    "df[df[\"New_Price(Lakh)\"] == df['New_Price(Lakh)'].max()]"
   ]
  },
  {
   "cell_type": "code",
   "execution_count": null,
   "metadata": {},
   "outputs": [],
   "source": []
  }
 ],
 "metadata": {
  "kernelspec": {
   "display_name": "Python 3",
   "language": "python",
   "name": "python3"
  },
  "language_info": {
   "codemirror_mode": {
    "name": "ipython",
    "version": 3
   },
   "file_extension": ".py",
   "mimetype": "text/x-python",
   "name": "python",
   "nbconvert_exporter": "python",
   "pygments_lexer": "ipython3",
   "version": "3.12.2"
  }
 },
 "nbformat": 4,
 "nbformat_minor": 2
}
